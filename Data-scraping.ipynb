{
 "cells": [
  {
   "cell_type": "code",
   "execution_count": 1,
   "metadata": {},
   "outputs": [],
   "source": [
    "import pandas as pd\n",
    "from vnstock import *\n",
    "from datetime import datetime\n",
    "import plotly.express as px\n",
    "import requests\n",
    "from bs4 import BeautifulSoup\n",
    "import seaborn as sns\n",
    "import matplotlib.pyplot as plt"
   ]
  },
  {
   "cell_type": "code",
   "execution_count": 3,
   "metadata": {},
   "outputs": [
    {
     "data": {
      "text/plain": [
       "'2024-03-30'"
      ]
     },
     "execution_count": 3,
     "metadata": {},
     "output_type": "execute_result"
    }
   ],
   "source": [
    "start = '2020-01-01'\n",
    "now = datetime.now() - timedelta(days=1)\n",
    "now = now.strftime(\"%Y-%m-%d\")\n",
    "now"
   ]
  },
  {
   "cell_type": "code",
   "execution_count": 4,
   "metadata": {},
   "outputs": [],
   "source": [
    "df = stock_historical_data('ACB', start, now, \"1D\", \"stock\")\n",
    "df = df[['time', 'close']].rename(columns={\"time\": \"Date\", \"close\": 'ACB'})"
   ]
  },
  {
   "cell_type": "code",
   "execution_count": 5,
   "metadata": {},
   "outputs": [],
   "source": [
    "stocks_list = ['AGR', 'BID', 'VCB', 'CTG']\n",
    "\n",
    "for stock in stocks_list:\n",
    "    stock_df = stock_historical_data(stock, start, now, \"1D\", \"stock\")\n",
    "    stock_df = stock_df[['time', 'close']].rename(columns={\"time\": \"Date\", \"close\": stock})\n",
    "    stock_df.drop_duplicates(subset = ['Date'], keep= 'last', inplace= True)\n",
    "    df = df.merge(stock_df, how = 'left', on = 'Date')\n",
    "\n",
    "df.to_csv('data/data.csv', index = True)"
   ]
  }
 ],
 "metadata": {
  "kernelspec": {
   "display_name": "Python 3",
   "language": "python",
   "name": "python3"
  },
  "language_info": {
   "codemirror_mode": {
    "name": "ipython",
    "version": 3
   },
   "file_extension": ".py",
   "mimetype": "text/x-python",
   "name": "python",
   "nbconvert_exporter": "python",
   "pygments_lexer": "ipython3",
   "version": "3.10.12"
  }
 },
 "nbformat": 4,
 "nbformat_minor": 2
}
